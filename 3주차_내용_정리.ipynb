{
  "nbformat": 4,
  "nbformat_minor": 0,
  "metadata": {
    "colab": {
      "name": "3주차 내용 정리",
      "provenance": [],
      "authorship_tag": "ABX9TyONGZbrf1xDZw/uFkkoCw4x",
      "include_colab_link": true
    },
    "kernelspec": {
      "name": "python3",
      "display_name": "Python 3"
    }
  },
  "cells": [
    {
      "cell_type": "markdown",
      "metadata": {
        "id": "view-in-github",
        "colab_type": "text"
      },
      "source": [
        "<a href=\"https://colab.research.google.com/github/Hayeon-kimm/1-/blob/master/3%EC%A3%BC%EC%B0%A8_%EB%82%B4%EC%9A%A9_%EC%A0%95%EB%A6%AC.ipynb\" target=\"_parent\"><img src=\"https://colab.research.google.com/assets/colab-badge.svg\" alt=\"Open In Colab\"/></a>"
      ]
    },
    {
      "cell_type": "markdown",
      "metadata": {
        "id": "9N0wB_BQlPxq",
        "colab_type": "text"
      },
      "source": [
        "# **3주차 내용 정리**"
      ]
    },
    {
      "cell_type": "markdown",
      "metadata": {
        "id": "a-9iKZKUlTEj",
        "colab_type": "text"
      },
      "source": [
        "**1. 파이썬 심화(3-1)**"
      ]
    },
    {
      "cell_type": "markdown",
      "metadata": {
        "id": "FIjMZdi-lgWD",
        "colab_type": "text"
      },
      "source": [
        "1) 딕셔너리 자료형 : 서로 대응 관계를 가진 데이터(key, value), 키로 인덱싱하여 접근 가능"
      ]
    },
    {
      "cell_type": "code",
      "metadata": {
        "id": "FZfmFaFQlJa1",
        "colab_type": "code",
        "colab": {
          "base_uri": "https://localhost:8080/",
          "height": 34
        },
        "outputId": "5b8f37b9-4d7f-4c29-af09-ca17bdfce31d"
      },
      "source": [
        "student= {'name' : 'LeeJaeHwa', 'age' : 20, 'email' : 'Gwanjuai@likelion.net'}\n",
        "print(student)"
      ],
      "execution_count": null,
      "outputs": [
        {
          "output_type": "stream",
          "text": [
            "{'name': 'LeeJaeHwa', 'age': 20, 'email': 'Gwanjuai@likelion.net'}\n"
          ],
          "name": "stdout"
        }
      ]
    },
    {
      "cell_type": "markdown",
      "metadata": {
        "id": "pKsK-gein9Nd",
        "colab_type": "text"
      },
      "source": [
        "2) JSON : java script object notation, 데이터를 효율적으로 저장하고 교환하는데 사용(이름&값, 정렬된 값의 리스트 구조로 이루어져 있음.) - 사람과 컴퓨터 모두 사용하기 쉬움\n",
        "\n",
        "* list tuple(python) -> array(JSON)\n",
        "array(JSON) -> list(python)"
      ]
    },
    {
      "cell_type": "code",
      "metadata": {
        "id": "RJkyHxSEnkY4",
        "colab_type": "code",
        "colab": {}
      },
      "source": [
        "import json \n",
        "with open('student_file.json') as json_file :\n",
        "  json_data = json.load(json_file)\n",
        "\n",
        "json_data #JSON형식의 데이터를 열어 파이썬 객체로 읽음\n",
        "\n",
        "#파이썬 객체 -> JSON\n",
        "st_json = json.dumps(student_data, indent=4, sort_keys=True) #indent는 들여쓰기 #sort_keys=True는 키에 대해서 정렬"
      ],
      "execution_count": null,
      "outputs": []
    },
    {
      "cell_type": "markdown",
      "metadata": {
        "id": "xPV-sbkepyVY",
        "colab_type": "text"
      },
      "source": [
        "3) OPEN API : 인터넷 이용자가 웹 검색 결과 및 사용자 인터페이스 등을 수동적으로 제공받는데 그치지 않고 직접 응용 프로그램과 서비스를 개발할 수 있또록 공개된 API\n",
        "-> 데이터를 우리가 지정한 조건에 맞게끔 가져올 수 있는 도구!\n",
        "(해당업체에서 반드시 'key'받는 것 필요, open API사용 가이드라인 제공)\n",
        "\n",
        "필요한 데이터 확인(URL : 나만의 key로 변경 + 기준날짜) -> 데이터 공급형태 확인 -> 데이터 정제"
      ]
    },
    {
      "cell_type": "code",
      "metadata": {
        "id": "iOwIL0Btq5m0",
        "colab_type": "code",
        "colab": {}
      },
      "source": [
        "import requests\n",
        "\n",
        "url = \"http://www.kobis.kr.kr/~~~\"\n",
        "res = requests.get(url) #정보를 저장\n",
        "text = res.ext #인간이 확인할 수 있는 문자로 받음\n",
        "MD_json = json.loads(text) #json형식으로 변환하여 사용\n",
        "\n",
        "print(json.dumps(MD_json, indent=4, sort_keys=True)) #데이터 확인 가능 -> open API 가이드 라인 참고, 설명을 바탕으로 우리가 출력한 데이터 활용가능\n",
        "\n",
        "print(MD_json.keys())\n",
        "print(MD_json['boxofficeResult'].keys()) #확인하고 싶은 정보 보기\n",
        "\n",
        "for i in MD_json['boxOfficeResult']['dailyBoxOfficeList'] :\n",
        "  prin(i['rank'], i['rank01dAnNew'], i['movieCd'],i['movieNm']) #i에 원하는 응답 필드를 넣기 + pandas로 받기도 가능"
      ],
      "execution_count": null,
      "outputs": []
    },
    {
      "cell_type": "markdown",
      "metadata": {
        "id": "TYA7yTICs4py",
        "colab_type": "text"
      },
      "source": [
        "4) 공공 데이터 가져오기 : \n",
        " \n",
        "ex) 공적 마스크 판매처 정보 -> 참고문서(요청 url, 응답필드)와 URL\n"
      ]
    },
    {
      "cell_type": "code",
      "metadata": {
        "id": "Q6sLU2sXtd6A",
        "colab_type": "code",
        "colab": {}
      },
      "source": [
        "corona10_mask_list = []\n",
        "for i in corona19_mask['sales'] :\n",
        "  corona19_mask_list.append([i['created_at'],i['code'],i['remain_stat']])\n",
        "corona19_mask_dataframe = pd.DataFrame(corona19_mask_list) # 이쁘게 정리해줌\n",
        "\n",
        "corona19_mask_dataframe.head(10) #10개씩"
      ],
      "execution_count": null,
      "outputs": []
    },
    {
      "cell_type": "markdown",
      "metadata": {
        "id": "TVwOf9zBuHmv",
        "colab_type": "text"
      },
      "source": [
        "**2. 머신러닝을 위한 기초 수학2(3-2)**"
      ]
    },
    {
      "cell_type": "markdown",
      "metadata": {
        "id": "cHm6dEKay46d",
        "colab_type": "text"
      },
      "source": [
        "1) 목적함수 : 목적 함숫값이 가장 작아지는 파라미터들을 찾는 것이 목적이 된다.(바탕화면에 식)\n",
        "\n",
        "1/2을 붙이는 이유 ) 미분할때 간단하게, 최솟값의 위치는 변하지 않기 때문에 괜츈\n",
        "\n",
        "2) 경사하강법 : 목적함수의 값을 최소화 시키기 위해 마치 경사를 내려가듯 최소값을 찾는 기법\n",
        "* 미분으로 함수의 최솟값 찾기!, 도함수의 부호에따라 x의 방향을 바꿈(최솟값쪽으로 향하게)\n",
        "x := x - n(d/dx)g(x)\n",
        "* 학습률(에타) : 최솟값에 도달하기까지 갱신해야하는 숫자가 달라짐. = 수렴되는 속도가 달라짐 -> 경사를 내려가려면 보폭줄임(학습률 줄임) but,속도 느림\n",
        "--> 학습률이 너무 크면 발산, 너무 작으면 수렴 속도 지연\n",
        "--> 머신러닝의 실험적 성격이 드러남"
      ]
    },
    {
      "cell_type": "markdown",
      "metadata": {
        "id": "9um67yLq1aak",
        "colab_type": "text"
      },
      "source": [
        "**3. 머신러닝을 위한 기초수학3(3-3)**"
      ]
    },
    {
      "cell_type": "markdown",
      "metadata": {
        "id": "RbRf_p061eHq",
        "colab_type": "text"
      },
      "source": [
        "1) 편미분\n",
        "합성함수 미분법 \n",
        "--> 목적함수 갱신식(바탕화면)\n",
        "* 차수를 너무 늘리면 과적합 발생\n",
        "\n",
        "* 다항식 회귀 : 다항식의 차수를 늘려가는 것."
      ]
    },
    {
      "cell_type": "markdown",
      "metadata": {
        "id": "ElPmTR5x5htY",
        "colab_type": "text"
      },
      "source": [
        "**4. 머신러닝 - 분류문제[1]**"
      ]
    },
    {
      "cell_type": "markdown",
      "metadata": {
        "id": "utCtt3Pl5p7b",
        "colab_type": "text"
      },
      "source": [
        "1) 머신러닝 알고리즘 훈련을 위한 단계\n",
        "변수를 선택 & 훈련데이터 수집 -> 모델의 성능 지표 선택 -> 분류 모델과 최적화 알고리즘 선택 -> 모델의 성능 평가 -> 모델 튜닝\n",
        "\n",
        "2) Perceptron(퍼셉트론) : 여러개의 입력을 받아 가중치를 곱한후 모두 더한 것이 출력되는 형태의 모델\n",
        "선형분리 불가능 문제 -> 수렴하지 못한다는 단점 발생 - > 해결필요\n",
        "\n",
        " 3) 로지스틱 회귀 : 분류를 확률로 생각하는 방식 -> 어느 클래스에 분류 되는지 결정하는 함수 필요\n",
        " 로지스틱 시그모이드 함수 : f(x) = 1/(1+e^^-x) <- z = W^^Tz\n",
        " * z = 가중치와 데이터 변수의 선형 조합으로 이뤄진 최종 입력(T=전치행렬)\n",
        "\n"
      ]
    },
    {
      "cell_type": "code",
      "metadata": {
        "id": "oTtHfi4g71cv",
        "colab_type": "code",
        "colab": {}
      },
      "source": [
        "import matplotlib.pyplot as plt\n",
        "import numpy as np\n",
        "\n",
        "def simoid(z) :\n",
        "  return 1.0 / (1.0 + np.exp(-z)) #넘파이의 지수함수 사용\n",
        "\n",
        "z = np.arrange(-7, 7, 0.1)\n",
        "f_x = sigmoid(z) #z값이 매우 커지면 시그모이드 함수에는 1이 수렴한다. 작아지면 0에 수렴(0~1사이기 때문에 확률처럼 사용!)"
      ],
      "execution_count": null,
      "outputs": []
    },
    {
      "cell_type": "markdown",
      "metadata": {
        "id": "8S9Xim2E70Xi",
        "colab_type": "text"
      },
      "source": [
        "4) 서포트 벡터 머신(SVM) : 마진을 최대화하는 것이 목적, 결정경계(초평면)를 그려 마진을 구함 -> 서포트 벡터\n",
        "장점 : 일반화를 진행했을 때 오차가 낮아지는 경향이 발생, 선형 분리 불가능 문제에서도 해결 가능(3차원으로 생각) -> 2차원으로 옮기면서 비선형 결정 경계를 만듦.\n",
        "단점 : 계산비용(2차원->3차원으로 새로운 특성 생성하면서 계산비용,, -> 커널 기법)\n"
      ]
    },
    {
      "cell_type": "markdown",
      "metadata": {
        "id": "f_9FUjSR-R7e",
        "colab_type": "text"
      },
      "source": [
        "**5. 머신러닝 - 분류문제[2]**"
      ]
    },
    {
      "cell_type": "markdown",
      "metadata": {
        "id": "vRJsitwR-WaO",
        "colab_type": "text"
      },
      "source": [
        "1) 결정 트리 학습 : 특성을 기반으로 새로운 샘플의 클레스 레이블을 추정할 수 있도록 일련의 질문을 학습(범주형, 실수형 모두 가능)\n",
        "- 트리의 루트(root)에서 시작해 정보이득이 최대가 되는 특성으로 데이터를 나눈다.\n",
        "- 리프노드가 순수해질 때 까지 모든 자식 노드에서 이 분할 작업을 반복\n",
        "- 과적합 발생(너~무 깊으면) -> 트리 최대깊이를 제한하여 가지치기\n",
        "\n",
        "2) 목적함수의 목적 : 정보가 풍부한 특성으로 노드를 나누기 위함. 트리 알고리즘으로 최적화 -> 정보이득을 최대화해야함.\n",
        "- f = 어떠한 분할 기법을 사용할 것인가\n",
        "- Dp,Dj = 부모와 j번째 자식 노드의 데이터 셋\n",
        "- I = 불순도 지표\n",
        "Np, Nj = 부모, 자식 노드에 있는 전체 데이터의 개수\n",
        " - 이진 결정트리로 바꿈 -> 즉, 정보이득은 (부모 노드의 불순도) - (자식 노드의 불순도)\n",
        "\n",
        "** 불순도 지표\n",
        "\n",
        "    1) 엔트로피 : 한 노드의 모든 데이터가 같은 클래스라면 엔트로피는 0(반대로 균등하면 엔트로피는 최대  --> 트리의 상호 의존 정보를 최대화\n",
        "\n",
        "    2) 지니불순도 : 엔트로피와 반대, 잘못 분류될 확률을 최소화 하기 위한 기준 -> 가지치기 수준을 바꿔가며 실험 권장(같은 비율일때 최대값 0.5)\n",
        "\n",
        "    3) 분류 오차 : 노드의 클래스 확률 변화에 둔감\n",
        "\n",
        "  ** 지니 불순도가가 엔트로피, 분류오차에 중간에 위치 -> 불순도가 0에 수렴할때 까지(하나의 클래스) 반복\n",
        "\n",
        "3) K-최근접 이웃 : 훈련과정이 없음. 매번 알고리즘을 실행할때 마다 모든 학습데이터를 통해 분류를 진행(매번 학습데이터 필요)\n",
        "과적합과 과소적합 사이에서 올바른 균형을 잡기위한 K를 잡음\n",
        "차원의 저주(특성 공간 희소)를 피하기 위해 올바른 변수 선택, 차원 축소 기법 필요\n",
        "\n",
        "장점 : 학습과정이 없어도 데이터 정제만 잘하면 빠르게 결과 확인 가능\n",
        "\n",
        "숫자 K와 거리 측정 기준을 선택(유클리디안 거리) -> 분류하려는 미지의 데이터에서 K개의 최근접 이웃을 찾음 -> 다수결 투표를 진행하여 투표 결과에 따라 미지의 데이터 클레스 레이블을 할당\n",
        "\n",
        "적합한 알고리즘 택하는 것보단 차원축소,데이터전처리,특성선택 같이 데이터에 대한 관심 필요!"
      ]
    },
    {
      "cell_type": "markdown",
      "metadata": {
        "id": "A5etHn4hJ5ll",
        "colab_type": "text"
      },
      "source": [
        "**6. 머신러닝 - 군집문제[1]**"
      ]
    },
    {
      "cell_type": "markdown",
      "metadata": {
        "id": "1j70WKAlJ_Qu",
        "colab_type": "text"
      },
      "source": [
        "1) 비지도 학습 - 군집문제\n",
        "\n",
        "군집 : 정답을 모르는 데이터 안에서 숨겨진 구조를 찾는 것\n",
        "\n",
        "1. K 평균 : 매우 쉬운 구현성, 높은 계산 효율성, 프로토타입 기반 군집(하나로) / 프로토타입(연속적인 특성에서는 비슷한 데이터 포인트의 센트로이드/평균, 범주형 특성에서는 메도이드/자주 등장)\n",
        "\n",
        "- 원형 클러스터를 구분하는데 뛰어남 , but 사전에 클러스터 개수 지정(주관 개입)"
      ]
    },
    {
      "cell_type": "code",
      "metadata": {
        "id": "r7UTmF1Afho6",
        "colab_type": "code",
        "colab": {}
      },
      "source": [
        "# 데이터 생성 및 시각화 그래프\n",
        "from sklearn.datasets import make_blobs \n",
        "X,y = make_blobs(n_sample=150, # 무작위 데이터 셋(make_blobs)\n",
        "                 n_features = 2, # 2차원\n",
        "                 centers = 3, # 3개의 중심\n",
        "                 cluster_std = 0.5,\n",
        "                 shuffle = True, # 무작위로 섞을 것인가\n",
        "                 random_state = 0)\n",
        "\n",
        "import matplotlib.pyplot as plt\n",
        "plt.scatter(X[:,0], # 2차원 산정도를 구려줌\n",
        "            X[:,1],\n",
        "            c = 'white',\n",
        "            marker = 'o',\n",
        "            edgecolor = 'black',\n",
        "            s = 50)\n",
        "plt.grid()\n",
        "plt.tight_layout()\n",
        "plt.show()"
      ],
      "execution_count": null,
      "outputs": []
    },
    {
      "cell_type": "markdown",
      "metadata": {
        "id": "WOwbFJV4g9DZ",
        "colab_type": "text"
      },
      "source": [
        "* k-평균 4단계 알고리즘 : 랜덤하게 k개의 센트로이드를 초기 클러스터 중심으로 선택 -> 각 데이터를 가장 가까운 센트로이드에 할당 -> 할당된 샘플들의 중심으로 센트로이드 이동 -> 할당 변화x, 사용자 지정 허용오차, 최대 반복횟수에 도달할 때 까지 2,3번째 과정을 반복\n",
        "\n",
        "* 유사도 측정 : 유킬리디안 거리(거리 제곱)-> 최적화 문제로 해결 : 클러스터 내의 **제곱 오차합(SSE)**을 반복적으로 최소화! 이러다가 허용 오차값이 일정 수준내로 들어온다면 더이상 클러스터 변화x + 표준화과정 좋음(불필요한 항목 삭제)"
      ]
    },
    {
      "cell_type": "code",
      "metadata": {
        "id": "iv4N48ir8A6F",
        "colab_type": "code",
        "colab": {}
      },
      "source": [
        "from sklearn.cluster import KMeans\n",
        "km = KMeans(n_clusters=3, #알고리즘을 객체화 시키는것, 클러스터 3개로학성\n",
        "            init = 'random',#기본 평균설정\n",
        "            n_init = 10,#몇번 실행하여 가장 낮은 오차 제곱 값?\n",
        "            max_liter = 300,#2,3단계 한번에 실행(최대 몇 번 이하)\n",
        "            tol = 1e-04,#허용 오차 값-> 일찍 종류\n",
        "            random_state = 0)\n",
        "y_km = km.fit_predict(x) # 예측 클래스 레이블"
      ],
      "execution_count": null,
      "outputs": []
    },
    {
      "cell_type": "markdown",
      "metadata": {
        "id": "Ar8FF_L29Dms",
        "colab_type": "text"
      },
      "source": [
        "2. K 평균 ++ : 초기 센트로이드가 서로 떨어지도록!\n",
        "\n"
      ]
    },
    {
      "cell_type": "code",
      "metadata": {
        "id": "EwpsvKfM9JQ3",
        "colab_type": "code",
        "colab": {}
      },
      "source": [
        "km = KMeans(n_clusters = 3,\n",
        "            init = 'k-means++',\n",
        "            n_init = 10,\n",
        "            max_liter = 300,\n",
        "            tol = 1e-04,\n",
        "            random_state = 0)"
      ],
      "execution_count": null,
      "outputs": []
    },
    {
      "cell_type": "markdown",
      "metadata": {
        "id": "Ku4jL88N-_yb",
        "colab_type": "text"
      },
      "source": [
        "- 사이킷런 : 올바른 정답 -> 알고리즘 자체 지표를 사용해야함 / 이때 사용하는 것.\n",
        "K-means안에 관성이라하는 inertia로 구해져 있음(왜곡)\n",
        "\n",
        "- 엘보우 방법(k를 다양한 값으로 할당한 후에 왜곡값을 비교) : 최적은 클러스터 개수 k를 추정할 수 있음(k 증가 -> 센트로이드 증가 -> 데이터들이 센트로이드에 더 가까워 짐 -> 왜곡값(SSE) 감소 / 왜곡이 빠르게 증가하는 지점의 k값을 찾기!!"
      ]
    },
    {
      "cell_type": "code",
      "metadata": {
        "id": "dnMGl91-_BAL",
        "colab_type": "code",
        "colab": {}
      },
      "source": [
        "#엘보우 방법\n",
        "distortions=[]\n",
        "for i in range(1,11) :\n",
        "  km = KMeans(n_clusters = i,#클러스터 1개씩부터 설정\n",
        "              init = 'k-means++'\n",
        "              n_init = 10,\n",
        "              max_liter = 300,\n",
        "              random_state = 0)\n",
        "  km.fit(x) #임의\n",
        "  distortions.append(km.inertia_) #객체에 저장된 왜곡값을 저장\n",
        "\n",
        "plt.plot(range(1,11),distortions.marker='0') #x축은 k범위, y축은 왜곡값을 할당 -> 시각화 진행(k가 늘어남에따라 왜곡값 감사)\n",
        "plt.xlabel('Number of clusters')\n",
        "plt.ylabel('Distortion')\n",
        "plt.tight_layout()\n",
        "plt.show()"
      ],
      "execution_count": null,
      "outputs": []
    },
    {
      "cell_type": "markdown",
      "metadata": {
        "id": "2KLTp38n_8gb",
        "colab_type": "text"
      },
      "source": [
        "* 실루엣 그래프 : 클러스터 내 데이터들이 얼마나 조밀하게 모여있는지를 측정하는 그래프 도구(분리도C, 응집력 a, 분리력 b) -> 두 값이 같다면 클러스터는 중첩!\n",
        "- if 분리력 > 응집력 : 이상적인 실루엣 계수 1에 가까움.(응집력은 작을수록 클러스터 내 다른 데이터들과 비슷하단 뜻)\n",
        "- 클러스터 크기를 확인하여 이상치 추정 가능\n",
        "- 붉은색 점선으로 실루엣 계수 확인 가능"
      ]
    },
    {
      "cell_type": "code",
      "metadata": {
        "id": "Hx_D9ZrNA2AJ",
        "colab_type": "code",
        "colab": {}
      },
      "source": [
        "from sklearn_metrics import silhouette_samples # 계산가능\n",
        "silhouette_vals = silhouette_samples(X, y_km, metric = 'euclidean') # 임의의 데이터 셋 X, 데이터에 대한 예측 클러스터를 포함한 객체, 거리측정방식 = 유클리디아"
      ],
      "execution_count": null,
      "outputs": []
    },
    {
      "cell_type": "markdown",
      "metadata": {
        "id": "JSIXQQwNBsTC",
        "colab_type": "text"
      },
      "source": [
        "** Summary\n",
        "군집 분석 : 클래스 레이블이 없는 데이터를 특정 군집으로 묶고자 할 때 활용\n",
        "\n",
        "K-MEANS 알고리즘은 학계와 산업현장을 가리지 않고 활약\n",
        "\n",
        "K-MEANs의 무작위 성을 보완하기 위한 기법 K-MEANS++\n",
        "\n",
        "+) 계층 군집, 밀집도 기반 군집(원형x)도 사용되고 있음!"
      ]
    },
    {
      "cell_type": "markdown",
      "metadata": {
        "id": "fgtHuby7CMO7",
        "colab_type": "text"
      },
      "source": [
        "**7. 머신러닝 - 군집문제[2]**"
      ]
    },
    {
      "cell_type": "markdown",
      "metadata": {
        "id": "6vozNqDGCRRk",
        "colab_type": "text"
      },
      "source": [
        "1) 계층 군집 / 모든 데이터 포인트가 단일 클러스터로 표현\n",
        "- 덴드로 그램 : 의미 있는 분류 체계를 만들어 줌. + 클러스터 개수 지정 안해도 됌. + 히트맵과 자주 사용됨.\n",
        "\n",
        "1. 병합 계층 군집 : 하나의 데이터에서 시작 -> 하나의 클러스터가 될때 까지 병합\n",
        "\n",
        "  1) 단일 연결 : 거리의 값이 가장 작은 두 클러스터를 하나로 합침\n",
        "\n",
        "  2) 완전 연결 : 가장 비슷하지 않은 데이터(먼 데이터) 가장 가까운 클러스터를 합침\n",
        "\n",
        "  3) 평균 연결 : 평균이 가장 작은걸\n",
        "\n",
        "  4) 와드 연결 : 제곱 오차합(SSE)이 가장 작은걸\n",
        "2. 분할 계층 군집 : 하나의 클러스터에서 시작 -> 데이터가 하나 남을 때까지 나눔"
      ]
    },
    {
      "cell_type": "code",
      "metadata": {
        "id": "docyq8rvDdD5",
        "colab_type": "code",
        "colab": {}
      },
      "source": [
        "#1. 모든 데이터의 거리행렬을 계산\n",
        "import numpy as np\n",
        "np.random.seed(123) #임의 숫자 생성 seed\n",
        "X = np.random.random_sample([5,3]) * 10 # 무작위 함수를 통해 5X3행렬에 각각 0~1 임의의 실수 출력\n",
        "\n",
        "import pandas as pd\n",
        "variables = ['X', 'Y', 'Z']\n",
        "labels = ['ID_0','ID_1', 'ID_2', 'ID_3', 'ID_4']\n",
        "df = pd.DataFrame(X,columns=variables,index=labels)\n",
        "df\n",
        "\n",
        "from scipy.spatial.distance import pdist, squareform #pdist() : 축약된 거리 행렬\n",
        "Y = pdist(df) # df <- X,Y,Z\n",
        "Y\n",
        "\n",
        "row_dist = pd.DataFrame(squarefor(pdist(df,metric='euclidean')),# 거리 게산을 유클리디안, squareform -> 거리행렬 벡터를 행렬 형식으로!\n",
        "                        columns = labels, index = labels)\n",
        "\n",
        "from scipy.cluster.hierarchy import linkage\n",
        "row_clusters = linkage(row_dist,\n",
        "                       method = 'complete',\n",
        "                       metric = 'euclidean')\n",
        "\n",
        "#올바른 연결 행렬 구하기"
      ],
      "execution_count": null,
      "outputs": []
    },
    {
      "cell_type": "markdown",
      "metadata": {
        "id": "ZuAQFTEADNDq",
        "colab_type": "text"
      },
      "source": [
        "2) 밀집도 기반 군집 : 원형 클러스터를 가정하지 않는다. 데이터가 조밀하게 모인 지역에 클러스테 레이블을 할당(특정 반경/ 엡실론 안에 있는 샘플의 개수가 밀집도) / 복잡한 구조에서 굳.\n",
        "\n",
        "- 중심점 : 반경 내에 일정 개수 이상\n",
        "- 경계점 : 가장 가까운 점 기준, 특정 반경 이내에 지정된 개수보다 이웃은 적지만, 다른 중심점의 반경 안에 있으면\n",
        "- 이상치 : 그 어떠한 점에도 속하지 않는 점 \n",
        "\n",
        "-- 유클리디안 거리 측정시 차원의 저주 발생"
      ]
    }
  ]
}