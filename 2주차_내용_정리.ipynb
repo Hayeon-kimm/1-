{
  "nbformat": 4,
  "nbformat_minor": 0,
  "metadata": {
    "colab": {
      "name": "2주차 내용 정리",
      "provenance": [],
      "authorship_tag": "ABX9TyM9vyzukYQg/cvrpP4mX5ng",
      "include_colab_link": true
    },
    "kernelspec": {
      "name": "python3",
      "display_name": "Python 3"
    }
  },
  "cells": [
    {
      "cell_type": "markdown",
      "metadata": {
        "id": "view-in-github",
        "colab_type": "text"
      },
      "source": [
        "<a href=\"https://colab.research.google.com/github/Hayeon-kimm/1-/blob/master/2%EC%A3%BC%EC%B0%A8_%EB%82%B4%EC%9A%A9_%EC%A0%95%EB%A6%AC.ipynb\" target=\"_parent\"><img src=\"https://colab.research.google.com/assets/colab-badge.svg\" alt=\"Open In Colab\"/></a>"
      ]
    },
    {
      "cell_type": "markdown",
      "metadata": {
        "id": "KLCPDTPeRR6c",
        "colab_type": "text"
      },
      "source": [
        "# **2주차 내용 정리**"
      ]
    },
    {
      "cell_type": "markdown",
      "metadata": {
        "id": "lDtSGLXkRgbH",
        "colab_type": "text"
      },
      "source": [
        "**1. 파이썬 기본(2-2)**"
      ]
    },
    {
      "cell_type": "markdown",
      "metadata": {
        "id": "WTJmbAp1Xa-L",
        "colab_type": "text"
      },
      "source": [
        "1) 사칙연산, 자료 타입"
      ]
    },
    {
      "cell_type": "markdown",
      "metadata": {
        "id": "hD6FVpjFR8KE",
        "colab_type": "text"
      },
      "source": [
        "// - 몫, % - 나머지\n",
        "j - 복소수 표현"
      ]
    },
    {
      "cell_type": "code",
      "metadata": {
        "id": "hNcd8g0zSfWi",
        "colab_type": "code",
        "colab": {
          "base_uri": "https://localhost:8080/",
          "height": 34
        },
        "outputId": "ec1c4312-ca44-4504-e74e-b232a43319a2"
      },
      "source": [
        "type(3), type(3.5), type(2+3j), type('abc')"
      ],
      "execution_count": 5,
      "outputs": [
        {
          "output_type": "execute_result",
          "data": {
            "text/plain": [
              "(int, float, complex, str)"
            ]
          },
          "metadata": {
            "tags": []
          },
          "execution_count": 5
        }
      ]
    },
    {
      "cell_type": "markdown",
      "metadata": {
        "id": "07Hz7i9YSY15",
        "colab_type": "text"
      },
      "source": [
        "2) 파이썬 기본 코드"
      ]
    },
    {
      "cell_type": "code",
      "metadata": {
        "id": "pkWvbcQ6TjFu",
        "colab_type": "code",
        "colab": {
          "base_uri": "https://localhost:8080/",
          "height": 210
        },
        "outputId": "429abfef-8502-4e5a-b950-b65995f277f0"
      },
      "source": [
        "x = 10 # 이렇게 해서 대입하기\n",
        "# 예약어를 찾고 싶을때 -> help('keywords')\n",
        "\n",
        "#리스트\n",
        "a = [3, 1, 4, 2, 5] #리스트는 대괄호, 대괄호 안 숫자는 '인덱스', 순서 0부터 시작 !\n",
        "#리스트의 장점 : 저장할 수 있는 데이터 타입과 깊이에 제약이 없음.\n",
        "#리스트의 범위 : ~ 이상 ~ 미만\n",
        "a[1:3]\n",
        "\n",
        "#튜플\n",
        "tuple_data = (1, 2, 3, 4, 5)  #튜플은 소괄호 사용,  변경 불가능, 데이터 변화가 없어 처리속도 빠른편\n",
        "\n",
        "#조건문\n",
        "# =  대입, == ~와 같다면, if - 조건에 도달하면 끝, for - 조건에 포함되는 개수만큼 반복\n",
        "\n",
        "#if문\n",
        "a = 3\n",
        "if a == 3 :\n",
        "  print(\"a는 3입니다.\")\n",
        "else :\n",
        "  print(\"a는 3이 아닙니다.\")\n",
        "\n",
        "#for문\n",
        "for i in range(3) :#시작 숫자 생략시 0!!부터, range(시작, 끝, 간격)\n",
        "  print(i)\n",
        "\n",
        "for i,e in enumerate([5, 3, 7]) : # 리스트 안 요소와 그에 해당하는 인덱스를 함께 출력\n",
        "  print(i, \":\", e) #i가 인덱스, e가 요소\n",
        "\n",
        "#while문 = 조건을 만족하지 않을 때까지 무한반복\n",
        "i = 0\n",
        "while i < 4 :\n",
        "  print(i)\n",
        "  i += 1"
      ],
      "execution_count": 6,
      "outputs": [
        {
          "output_type": "stream",
          "text": [
            "a는 3입니다.\n",
            "0\n",
            "1\n",
            "2\n",
            "0 : 5\n",
            "1 : 3\n",
            "2 : 7\n",
            "0\n",
            "1\n",
            "2\n",
            "3\n"
          ],
          "name": "stdout"
        }
      ]
    },
    {
      "cell_type": "markdown",
      "metadata": {
        "id": "OwSKRKbdSVIa",
        "colab_type": "text"
      },
      "source": [
        "**2. 파이썬 기본(2-3)**"
      ]
    },
    {
      "cell_type": "markdown",
      "metadata": {
        "id": "9vIFKy1mXw0r",
        "colab_type": "text"
      },
      "source": [
        "1) 정의"
      ]
    },
    {
      "cell_type": "code",
      "metadata": {
        "id": "NbhdjXlRYOLt",
        "colab_type": "code",
        "colab": {}
      },
      "source": [
        "def print_hello() : #전달 값을 받을 필요가 없다면 빈칸으로 나 두기\n",
        "  print('Hi, AI')\n",
        "\n",
        "#반환\n",
        "def my_sum(a,b) :\n",
        "  res = a + b\n",
        "  return res # 함수 내의 변수에 저장하도록 하는 기능\n",
        "\n",
        "res = my_sum(10, 15)\n",
        "print(res)\n",
        "\n",
        "#내장함수 : len, input, range 등등"
      ],
      "execution_count": 11,
      "outputs": []
    },
    {
      "cell_type": "code",
      "metadata": {
        "id": "yezD34vqbfyi",
        "colab_type": "code",
        "colab": {
          "base_uri": "https://localhost:8080/",
          "height": 228
        },
        "outputId": "dc9487fc-3b55-475e-c2cb-c0cbd68adc92"
      },
      "source": [
        "#class - self는 전달 값(파이썬 내부에서 사용되는 약속된 값)\n",
        "\n",
        "class Email :\n",
        "  sender = \"\"\n",
        "\n",
        "  def send_mail(self, recv, subject, contents) :\n",
        "    print(\"From :\\t\" + self.sender) #self.sender인 이유는 클래스 안의 변수이기 때문에 전달 값인 self이용!\n",
        "    print(\"To:\\t\" + recv)\n",
        "    print(\"Subject :\" + subject)\n",
        "    print(\"Contents\")\n",
        "    print(contents)\n",
        "    print(\"-\"*20)\n",
        "\n",
        "e = Email() # 클래스를 변수로 지정 -> email 클래스 자료형 변수가 되는 것을 의미, 아래에 클래스의 변수와 함수 활용가능\n",
        "e.sender = \"airim@naver.com\" #e.sender - 클래스 안의 변수 사용 의미, sender안에 문자 저장\n",
        "recv_list = [\"asdf@naver.com\", \"addf@naver.com\"] \n",
        "\n",
        "for recv in recv_list :#리스트를 순회하면서 recv에 내용 탑재\n",
        "  e.send_mail(recv, \"광주 인공지능 사관학교에 오신것을 환영합니다.\", #send_mail함수 호출 - 3개의 전달 값 대응해서 넣기\n",
        "              \"이번 온라인 강의는 함수와 클래스 입니다.\")"
      ],
      "execution_count": 13,
      "outputs": [
        {
          "output_type": "stream",
          "text": [
            "From :\tairim@naver.com\n",
            "To:\tasdf@naver.com\n",
            "Subject :광주 인공지능 사관학교에 오신것을 환영합니다.\n",
            "Contents\n",
            "이번 온라인 강의는 함수와 클래스 입니다.\n",
            "--------------------\n",
            "From :\tairim@naver.com\n",
            "To:\taddf@naver.com\n",
            "Subject :광주 인공지능 사관학교에 오신것을 환영합니다.\n",
            "Contents\n",
            "이번 온라인 강의는 함수와 클래스 입니다.\n",
            "--------------------\n"
          ],
          "name": "stdout"
        }
      ]
    },
    {
      "cell_type": "code",
      "metadata": {
        "id": "by8zrIKtfuZ_",
        "colab_type": "code",
        "colab": {}
      },
      "source": [
        "#class 활용(끌어오기)\n",
        "#from 파일이름 import 클래스 명\n",
        "from my_email import Email"
      ],
      "execution_count": null,
      "outputs": []
    },
    {
      "cell_type": "markdown",
      "metadata": {
        "id": "eGQbcoQugdAL",
        "colab_type": "text"
      },
      "source": [
        "**3. 머신러닝의 분류(2-4)**"
      ]
    },
    {
      "cell_type": "markdown",
      "metadata": {
        "id": "F7-c7ZgQglfR",
        "colab_type": "text"
      },
      "source": [
        "1) 지도학습 : **레이블**된 훈련 데이터를 활용하여 모델을 학습시켜, 본적 없는 가까운 미래 데이터에 대해 예측값을 출력하는 것\n",
        "\n",
        "분류 - 개별 클래스 레이블이 있는 지도학습(과거 관측 -> 범주형 클래스 레이블 예측) ex)손글씨 인식(다중 분류)\n",
        "회귀 - 연속적인 출력값을 예측(머신러닝 알고리즘 - 입력 데이터와 출력값이 주어졌을 때 두 변수 사이의 관계를 탐색), 함수값(y=ax+b)으로 나타내서 예측 + 직선까지의 거리 제곱의 평균\n",
        "\n",
        "2) 강화학습 : 환경이란 개념과 상호작용하며 에이전트의 성능을 향상시키는 것(환경은 '**보상 신호**'라는 것 포함) 이때 보상이 최대화되는 일련의 행동을 학습 ex)아타리 게임\n",
        "\n",
        "사람의 학습 성장곡선은 더딤, 강화학습은 직선(시간, 노력이 방대) - 사람이 생각치 못한 수도 해냄.\n",
        "\n",
        "3) 비지도학습 : 레이블되지 않거나 구조를 알 수 없는 데이터를 다룸.(출력값이나 보상 함수의 도움 필요x)\n",
        "\n",
        "군집 : 그룹 정보 -> 의미있는 서브그룹 / 클러스터로 구분(탐색적 데이터 분석 기법) -> 데이터에서 의미있는 관계를 유도\n",
        "\n",
        "차원 축소 : 고차원의 데이터 -> 저차원의 데이터\n",
        "비지도 차원 축소 기법) 대부분의 정보를 유지하면서 더 작은 차원의 부분 공간으로 데이터를 압축시킴."
      ]
    },
    {
      "cell_type": "markdown",
      "metadata": {
        "id": "tm16NWW1vEv9",
        "colab_type": "text"
      },
      "source": [
        "**4. 머신러닝을 위한 기초 수학1(2-5)**"
      ]
    },
    {
      "cell_type": "markdown",
      "metadata": {
        "id": "XOy5Ly5FvVM4",
        "colab_type": "text"
      },
      "source": [
        "1) 기술 통계학) 연속형 데이터, 범주형 데이터\n",
        "추론 통계학) 표본집단 -> 모집단\n",
        "\n",
        "2) 정규분포"
      ]
    },
    {
      "cell_type": "code",
      "metadata": {
        "id": "DiBCQ7tvxOnU",
        "colab_type": "code",
        "colab": {}
      },
      "source": [
        "import numpy as np\n",
        "from scipy import stats\n",
        "\n",
        "np.random.seed(0) #실험을 위한 통제 가능 제한적 공간\n",
        "\n",
        "data_A = np.random.radiant(0,100,10000) #0부터 100까지의 범위 안에서 10000개의 데이터 무작위 추출\n",
        "# 정규분포를 하는 경우 radiant -> normal\n",
        "mean = np.mean(data_A)\n",
        "midian = np.median(data_A)\n",
        "mode = stats.mode(data_A)\n",
        "\n",
        "print(\"평균값 :\", mean.round(2))\n",
        "print(\"중앙값 :\", median)\n",
        "print(\"최빈값 : {} ( {} )\". format(mode[0][0], mode[1][0])) \n",
        "#format 기법 : 모드객체 안 첫번째, 두번째 타입 객체 꺼냄 -> {}~여기에 순서대로 출력해라"
      ],
      "execution_count": null,
      "outputs": []
    },
    {
      "cell_type": "markdown",
      "metadata": {
        "id": "DYSiI_t90amU",
        "colab_type": "text"
      },
      "source": [
        "3) \n",
        "변량의 측정(변수) : 산포(데이터가 얼마나 흩어졌는지) -> 분산(평균과의 거리 제곱)\n"
      ]
    },
    {
      "cell_type": "code",
      "metadata": {
        "id": "lxqSO4x-0ykH",
        "colab_type": "code",
        "colab": {}
      },
      "source": [
        "data_A_var = np.var(data_A)\n",
        "data_A_std = np.std(data_A)\n",
        "\n",
        "print(\"분산 : \", data_A_var.round(2))\n",
        "print(\"표준편차 : \", data_A_std.round(2))"
      ],
      "execution_count": null,
      "outputs": []
    },
    {
      "cell_type": "markdown",
      "metadata": {
        "id": "jxTeC9Sg1XX9",
        "colab_type": "text"
      },
      "source": [
        "4) 사분위수"
      ]
    },
    {
      "cell_type": "code",
      "metadata": {
        "id": "nQnA_l-p2XHL",
        "colab_type": "code",
        "colab": {}
      },
      "source": [
        "import pandas as pd # pandas는 파이썬 핵심 라이브러리 중 하나, 빅데이터에 이용\n",
        "store_a = pd.Series([1,2,3,4,5,6,7,8,9,10])\n",
        "store_b = pd.Series([2,3,4,1,5,6,2,3,4,12])\n",
        "\n",
        "A_01 = store_a.quantile(0.25) ; print(\"1사분위 수 :\", A_01)\n",
        "\n",
        "import matplotlib.pyplot as plt #데이터 시각화 패키지\n",
        "plt.boxplot((store_a)) #이 박스플롯을 벗어나면 이상치로 간주\n",
        "\n",
        "#IQR : 사분범위의 1.5배를 기준으로 산정"
      ],
      "execution_count": null,
      "outputs": []
    }
  ]
}